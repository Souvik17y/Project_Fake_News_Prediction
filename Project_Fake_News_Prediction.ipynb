{
  "nbformat": 4,
  "nbformat_minor": 0,
  "metadata": {
    "colab": {
      "provenance": []
    },
    "kernelspec": {
      "name": "python3",
      "display_name": "Python 3"
    }
  
  
    },
    {
      "cell_type": "markdown",
      "metadata": {
        "id": "k399dHafvL5N"
      },
      "source": [
        "Importing the Dependencies"
      ]
    },
    {
      "cell_type": "code",
      "metadata": {
        "id": "-fetC5yqkPVe"
      },
      "source": [
        "import numpy as np\n",
        "import pandas as pd\n",
        "import re\n",
        "from nltk.corpus import stopwords\n",
        "from nltk.stem.porter import PorterStemmer\n",
        "from sklearn.feature_extraction.text import TfidfVectorizer\n",
        "from sklearn.model_selection import train_test_split\n",
        "from sklearn.linear_model import LogisticRegression\n",
        "from sklearn.metrics import accuracy_score"
      ],
      "execution_count": null,
      "outputs": []
    },
    {
      "cell_type": "code",
      "metadata": {
        "colab": {
          "base_uri": "https://localhost:8080/"
        },
        "id": "1AC1YpmGwIDw",
        "outputId": "2ef27366-f6df-4a25-f4fa-0f0c9ccb7a32"
      },
      "source": [
        "import nltk\n",
        "nltk.download('stopwords')"
      ],
      "execution_count": null,
      "outputs": [
        {
          "output_type": "stream",
          "name": "stderr",
          "text": [
            "[nltk_data] Downloading package stopwords to /root/nltk_data...\n",
            "[nltk_data]   Package stopwords is already up-to-date!\n"
          ]
        },
        {
          "output_type": "execute_result",
          "data": {
            "text/plain": [
              "True"
            ]
          },
          "metadata": {},
          "execution_count": 20
        }
      ]
    },
    {
      "cell_type": "code",
      "metadata": {
        "colab": {
          "base_uri": "https://localhost:8080/"
        },
        "id": "dxIOt3DowpUR",
        "outputId": "458fee81-dee7-4cd9-9a9c-7a0e088992cb"
      },
      "source": [
        "# printing the stopwords in English\n",
        "print(stopwords.words('english'))"
      ],
      "execution_count": null,
      "outputs": [
        {
          "output_type": "stream",
          "name": "stdout",
          "text": [
            "['i', 'me', 'my', 'myself', 'we', 'our', 'ours', 'ourselves', 'you', \"you're\", \"you've\", \"you'll\", \"you'd\", 'your', 'yours', 'yourself', 'yourselves', 'he', 'him', 'his', 'himself', 'she', \"she's\", 'her', 'hers', 'herself', 'it', \"it's\", 'its', 'itself', 'they', 'them', 'their', 'theirs', 'themselves', 'what', 'which', 'who', 'whom', 'this', 'that', \"that'll\", 'these', 'those', 'am', 'is', 'are', 'was', 'were', 'be', 'been', 'being', 'have', 'has', 'had', 'having', 'do', 'does', 'did', 'doing', 'a', 'an', 'the', 'and', 'but', 'if', 'or', 'because', 'as', 'until', 'while', 'of', 'at', 'by', 'for', 'with', 'about', 'against', 'between', 'into', 'through', 'during', 'before', 'after', 'above', 'below', 'to', 'from', 'up', 'down', 'in', 'out', 'on', 'off', 'over', 'under', 'again', 'further', 'then', 'once', 'here', 'there', 'when', 'where', 'why', 'how', 'all', 'any', 'both', 'each', 'few', 'more', 'most', 'other', 'some', 'such', 'no', 'nor', 'not', 'only', 'own', 'same', 'so', 'than', 'too', 'very', 's', 't', 'can', 'will', 'just', 'don', \"don't\", 'should', \"should've\", 'now', 'd', 'll', 'm', 'o', 're', 've', 'y', 'ain', 'aren', \"aren't\", 'couldn', \"couldn't\", 'didn', \"didn't\", 'doesn', \"doesn't\", 'hadn', \"hadn't\", 'hasn', \"hasn't\", 'haven', \"haven't\", 'isn', \"isn't\", 'ma', 'mightn', \"mightn't\", 'mustn', \"mustn't\", 'needn', \"needn't\", 'shan', \"shan't\", 'shouldn', \"shouldn't\", 'wasn', \"wasn't\", 'weren', \"weren't\", 'won', \"won't\", 'wouldn', \"wouldn't\"]\n"
          ]
        }
      ]
    },
    {
      "cell_type": "markdown",
      "metadata": {
        "id": "NjeGd1CLw_6R"
      },
      "source": [
        "Data Pre-processing"
      ]
    },
    {
      "cell_type": "code",
      "metadata": {
        "id": "nCGcpu_1wzLw"
      },
      "source": [
        "# loading the dataset to a pandas DataFrame\n",
        "news_dataset = pd.read_csv('/content/train.csv', encoding='iso-8859-1')"
      ],
      "execution_count": null,
      "outputs": []
    },
    {
      "cell_type": "code",
      "metadata": {
        "colab": {
          "base_uri": "https://localhost:8080/"
        },
        "id": "aRgmbYSbxV4-",
        "outputId": "82bafe4f-211d-47b8-f4ed-a61b77370bc0"
      },
      "source": [
        "news_dataset.shape"
      ],
      "execution_count": null,
      "outputs": [
        {
          "output_type": "execute_result",
          "data": {
            "text/plain": [
              "(20800, 5)"
            ]
          },
          "metadata": {
            "tags": []
          },
          "execution_count": 5
        }
      ]
    },
    {
      "cell_type": "code",
      "metadata": {
        "colab": {
          "base_uri": "https://localhost:8080/",
          "height": 380
        },
        "id": "jjJ1eB6RxZaS",
        "outputId": "26e4f818-7609-486a-d01e-f25b73cdf216"
      },
      "source": [
        "# print the first 5 rows of the dataframe\n",
        "news_dataset.head()"
      ],
      "execution_count": null,
      "outputs": [
        {
          "output_type": "execute_result",
          "data": {
            "text/plain": [
              "   id                                              title              author  \\\n",
              "0   0  House Dem Aide: We Didnât Even See Comeyâs...       Darrell Lucus   \n",
              "1   1  FLYNN: Hillary Clinton, Big Woman on Campus - ...     Daniel J. Flynn   \n",
              "2   2                  Why the Truth Might Get You Fired  Consortiumnews.com   \n",
              "3   3  15 Civilians Killed In Single US Airstrike Hav...     Jessica Purkiss   \n",
              "4   4  Iranian woman jailed for fictional unpublished...      Howard Portnoy   \n",
              "\n",
              "                                                text  label  \n",
              "0  House Dem Aide: We Didnât Even See Comeyâs...      1  \n",
              "1  Ever get the feeling your life circles the rou...      0  \n",
              "2  Why the Truth Might Get You Fired October 29, ...      1  \n",
              "3  Videos 15 Civilians Killed In Single US Airstr...      1  \n",
              "4  Print \\nAn Iranian woman has been sentenced to...      1  "
            ],
            "text/html": [
              "\n",
              "  <div id=\"df-ecd019f6-5343-435c-ac1a-70471e99fea1\" class=\"colab-df-container\">\n",
              "    <div>\n",
              "<style scoped>\n",
              "    .dataframe tbody tr th:only-of-type {\n",
              "        vertical-align: middle;\n",
              "    }\n",
              "\n",
              "    .dataframe tbody tr th {\n",
              "        vertical-align: top;\n",
              "    }\n",
              "\n",
              "    .dataframe thead th {\n",
              "        text-align: right;\n",
              "    }\n",
              "</style>\n",
              "<table border=\"1\" class=\"dataframe\">\n",
              "  <thead>\n",
              "    <tr style=\"text-align: right;\">\n",
              "      <th></th>\n",
              "      <th>id</th>\n",
              "      <th>title</th>\n",
              "      <th>author</th>\n",
              "      <th>text</th>\n",
              "      <th>label</th>\n",
              "    </tr>\n",
              "  </thead>\n",
              "  <tbody>\n",
              "    <tr>\n",
              "      <th>0</th>\n",
              "      <td>0</td>\n",
              "      <td>House Dem Aide: We Didnât Even See Comeyâs...</td>\n",
              "      <td>Darrell Lucus</td>\n",
              "      <td>House Dem Aide: We Didnât Even See Comeyâs...</td>\n",
              "      <td>1</td>\n",
              "    </tr>\n",
              "    <tr>\n",
              "      <th>1</th>\n",
              "      <td>1</td>\n",
              "      <td>FLYNN: Hillary Clinton, Big Woman on Campus - ...</td>\n",
              "      <td>Daniel J. Flynn</td>\n",
              "      <td>Ever get the feeling your life circles the rou...</td>\n",
              "      <td>0</td>\n",
              "    </tr>\n",
              "    <tr>\n",
              "      <th>2</th>\n",
              "      <td>2</td>\n",
              "      <td>Why the Truth Might Get You Fired</td>\n",
              "      <td>Consortiumnews.com</td>\n",
              "      <td>Why the Truth Might Get You Fired October 29, ...</td>\n",
              "      <td>1</td>\n",
              "    </tr>\n",
              "    <tr>\n",
              "      <th>3</th>\n",
              "      <td>3</td>\n",
              "      <td>15 Civilians Killed In Single US Airstrike Hav...</td>\n",
              "      <td>Jessica Purkiss</td>\n",
              "      <td>Videos 15 Civilians Killed In Single US Airstr...</td>\n",
              "      <td>1</td>\n",
              "    </tr>\n",
              "    <tr>\n",
              "      <th>4</th>\n",
              "      <td>4</td>\n",
              "      <td>Iranian woman jailed for fictional unpublished...</td>\n",
              "      <td>Howard Portnoy</td>\n",
              "      <td>Print \\nAn Iranian woman has been sentenced to...</td>\n",
              "      <td>1</td>\n",
              "    </tr>\n",
              "  </tbody>\n",
              "</table>\n",
              "</div>\n",
              "    <div class=\"colab-df-buttons\">\n",
              "\n",
              "  <div class=\"colab-df-container\">\n",
              "    <button class=\"colab-df-convert\" onclick=\"convertToInteractive('df-ecd019f6-5343-435c-ac1a-70471e99fea1')\"\n",
              "            title=\"Convert this dataframe to an interactive table.\"\n",
              "            style=\"display:none;\">\n",
              "\n",
              "  <svg xmlns=\"http://www.w3.org/2000/svg\" height=\"24px\" viewBox=\"0 -960 960 960\">\n",
              "    <path d=\"M120-120v-720h720v720H120Zm60-500h600v-160H180v160Zm220 220h160v-160H400v160Zm0 220h160v-160H400v160ZM180-400h160v-160H180v160Zm440 0h160v-160H620v160ZM180-180h160v-160H180v160Zm440 0h160v-160H620v160Z\"/>\n",
              "  </svg>\n",
              "    </button>\n",
              "\n",
              "  <style>\n",
              "    .colab-df-container {\n",
              "      display:flex;\n",
              "      gap: 12px;\n",
              "    }\n",
              "\n",
              "    .colab-df-convert {\n",
              "      background-color: #E8F0FE;\n",
              "      border: none;\n",
              "      border-radius: 50%;\n",
              "      cursor: pointer;\n",
              "      display: none;\n",
              "      fill: #1967D2;\n",
              "      height: 32px;\n",
              "      padding: 0 0 0 0;\n",
              "      width: 32px;\n",
              "    }\n",
              "\n",
              "    .colab-df-convert:hover {\n",
              "      background-color: #E2EBFA;\n",
              "      box-shadow: 0px 1px 2px rgba(60, 64, 67, 0.3), 0px 1px 3px 1px rgba(60, 64, 67, 0.15);\n",
              "      fill: #174EA6;\n",
              "    }\n",
              "\n",
              "    .colab-df-buttons div {\n",
              "      margin-bottom: 4px;\n",
              "    }\n",
              "\n",
              "    [theme=dark] .colab-df-convert {\n",
              "      background-color: #3B4455;\n",
              "      fill: #D2E3FC;\n",
              "    }\n",
              "\n",
              "    [theme=dark] .colab-df-convert:hover {\n",
              "      background-color: #434B5C;\n",
              "      box-shadow: 0px 1px 3px 1px rgba(0, 0, 0, 0.15);\n",
              "      filter: drop-shadow(0px 1px 2px rgba(0, 0, 0, 0.3));\n",
              "      fill: #FFFFFF;\n",
              "    }\n",
              "  </style>\n",
              "\n",
              "    <script>\n",
              "      const buttonEl =\n",
              "        document.querySelector('#df-ecd019f6-5343-435c-ac1a-70471e99fea1 button.colab-df-convert');\n",
              "      buttonEl.style.display =\n",
              "        google.colab.kernel.accessAllowed ? 'block' : 'none';\n",
              "\n",
              "      async function convertToInteractive(key) {\n",
              "        const element = document.querySelector('#df-ecd019f6-5343-435c-ac1a-70471e99fea1');\n",
              "        const dataTable =\n",
              "          await google.colab.kernel.invokeFunction('convertToInteractive',\n",
              "                                                    [key], {});\n",
              "        if (!dataTable) return;\n",
              "\n",
              "        const docLinkHtml = 'Like what you see? Visit the ' +\n",
              "          '<a target=\"_blank\" href=https://colab.research.google.com/notebooks/data_table.ipynb>data table notebook</a>'\n",
              "          + ' to learn more about interactive tables.';\n",
              "        element.innerHTML = '';\n",
              "        dataTable['output_type'] = 'display_data';\n",
              "        await google.colab.output.renderOutput(dataTable, element);\n",
              "        const docLink = document.createElement('div');\n",
              "        docLink.innerHTML = docLinkHtml;\n",
              "        element.appendChild(docLink);\n",
              "      }\n",
              "    </script>\n",
              "  </div>\n",
              "\n",
              "\n",
              "<div id=\"df-2a5555be-5778-42c9-8e14-957fc1a72fb8\">\n",
              "  <button class=\"colab-df-quickchart\" onclick=\"quickchart('df-2a5555be-5778-42c9-8e14-957fc1a72fb8')\"\n",
              "            title=\"Suggest charts\"\n",
              "            style=\"display:none;\">\n",
              "\n",
              "<svg xmlns=\"http://www.w3.org/2000/svg\" height=\"24px\"viewBox=\"0 0 24 24\"\n",
              "     width=\"24px\">\n",
              "    <g>\n",
              "        <path d=\"M19 3H5c-1.1 0-2 .9-2 2v14c0 1.1.9 2 2 2h14c1.1 0 2-.9 2-2V5c0-1.1-.9-2-2-2zM9 17H7v-7h2v7zm4 0h-2V7h2v10zm4 0h-2v-4h2v4z\"/>\n",
              "    </g>\n",
              "</svg>\n",
              "  </button>\n",
              "\n",
              "<style>\n",
              "  .colab-df-quickchart {\n",
              "      --bg-color: #E8F0FE;\n",
              "      --fill-color: #1967D2;\n",
              "      --hover-bg-color: #E2EBFA;\n",
              "      --hover-fill-color: #174EA6;\n",
              "      --disabled-fill-color: #AAA;\n",
              "      --disabled-bg-color: #DDD;\n",
              "  }\n",
              "\n",
              "  [theme=dark] .colab-df-quickchart {\n",
              "      --bg-color: #3B4455;\n",
              "      --fill-color: #D2E3FC;\n",
              "      --hover-bg-color: #434B5C;\n",
              "      --hover-fill-color: #FFFFFF;\n",
              "      --disabled-bg-color: #3B4455;\n",
              "      --disabled-fill-color: #666;\n",
              "  }\n",
              "\n",
              "  .colab-df-quickchart {\n",
              "    background-color: var(--bg-color);\n",
              "    border: none;\n",
              "    border-radius: 50%;\n",
              "    cursor: pointer;\n",
              "    display: none;\n",
              "    fill: var(--fill-color);\n",
              "    height: 32px;\n",
              "    padding: 0;\n",
              "    width: 32px;\n",
              "  }\n",
              "\n",
              "  .colab-df-quickchart:hover {\n",
              "    background-color: var(--hover-bg-color);\n",
              "    box-shadow: 0 1px 2px rgba(60, 64, 67, 0.3), 0 1px 3px 1px rgba(60, 64, 67, 0.15);\n",
              "    fill: var(--button-hover-fill-color);\n",
              "  }\n",
              "\n",
              "  .colab-df-quickchart-complete:disabled,\n",
              "  .colab-df-quickchart-complete:disabled:hover {\n",
              "    background-color: var(--disabled-bg-color);\n",
              "    fill: var(--disabled-fill-color);\n",
              "    box-shadow: none;\n",
              "  }\n",
              "\n",
              "  .colab-df-spinner {\n",
              "    border: 2px solid var(--fill-color);\n",
              "    border-color: transparent;\n",
              "    border-bottom-color: var(--fill-color);\n",
              "    animation:\n",
              "      spin 1s steps(1) infinite;\n",
              "  }\n",
              "\n",
              "  @keyframes spin {\n",
              "    0% {\n",
              "      border-color: transparent;\n",
              "      border-bottom-color: var(--fill-color);\n",
              "      border-left-color: var(--fill-color);\n",
              "    }\n",
              "    20% {\n",
              "      border-color: transparent;\n",
              "      border-left-color: var(--fill-color);\n",
              "      border-top-color: var(--fill-color);\n",
              "    }\n",
              "    30% {\n",
              "      border-color: transparent;\n",
              "      border-left-color: var(--fill-color);\n",
              "      border-top-color: var(--fill-color);\n",
              "      border-right-color: var(--fill-color);\n",
              "    }\n",
              "    40% {\n",
              "      border-color: transparent;\n",
              "      border-right-color: var(--fill-color);\n",
              "      border-top-color: var(--fill-color);\n",
              "    }\n",
              "    60% {\n",
              "      border-color: transparent;\n",
              "      border-right-color: var(--fill-color);\n",
              "    }\n",
              "    80% {\n",
              "      border-color: transparent;\n",
              "      border-right-color: var(--fill-color);\n",
              "      border-bottom-color: var(--fill-color);\n",
              "    }\n",
              "    90% {\n",
              "      border-color: transparent;\n",
              "      border-bottom-color: var(--fill-color);\n",
              "    }\n",
              "  }\n",
              "</style>\n",
              "\n",
              "  <script>\n",
              "    async function quickchart(key) {\n",
              "      const quickchartButtonEl =\n",
              "        document.querySelector('#' + key + ' button');\n",
              "      quickchartButtonEl.disabled = true;  // To prevent multiple clicks.\n",
              "      quickchartButtonEl.classList.add('colab-df-spinner');\n",
              "      try {\n",
              "        const charts = await google.colab.kernel.invokeFunction(\n",
              "            'suggestCharts', [key], {});\n",
              "      } catch (error) {\n",
              "        console.error('Error during call to suggestCharts:', error);\n",
              "      }\n",
              "      quickchartButtonEl.classList.remove('colab-df-spinner');\n",
              "      quickchartButtonEl.classList.add('colab-df-quickchart-complete');\n",
              "    }\n",
              "    (() => {\n",
              "      let quickchartButtonEl =\n",
              "        document.querySelector('#df-2a5555be-5778-42c9-8e14-957fc1a72fb8 button');\n",
              "      quickchartButtonEl.style.display =\n",
              "        google.colab.kernel.accessAllowed ? 'block' : 'none';\n",
              "    })();\n",
              "  </script>\n",
              "</div>\n",
              "\n",
              "    </div>\n",
              "  </div>\n"
            ],
            "application/vnd.google.colaboratory.intrinsic+json": {
              "type": "dataframe",
              "variable_name": "news_dataset",
              "summary": "{\n  \"name\": \"news_dataset\",\n  \"rows\": 21475,\n  \"fields\": [\n    {\n      \"column\": \"id\",\n      \"properties\": {\n        \"dtype\": \"number\",\n        \"std\": 5911,\n        \"min\": 0,\n        \"max\": 20799,\n        \"num_unique_values\": 20800,\n        \"samples\": [\n          14649,\n          8556,\n          5798\n        ],\n        \"semantic_type\": \"\",\n        \"description\": \"\"\n      }\n    },\n    {\n      \"column\": \"title\",\n      \"properties\": {\n        \"dtype\": \"string\",\n        \"num_unique_values\": 19803,\n        \"samples\": [\n          \"Florida Republicans Voting for Hillary Clinton \\u00c2\\u00b7 Guardian Liberty Voice\",\n          \"Freedom Caucus Chair Mark Meadows: We Need Tax Reform By August\",\n          \"Part 6, Democratic Network Money: Commons Money that Works for Us, Instead of Us Working for It\"\n        ],\n        \"semantic_type\": \"\",\n        \"description\": \"\"\n      }\n    },\n    {\n      \"column\": \"author\",\n      \"properties\": {\n        \"dtype\": \"category\",\n        \"num_unique_values\": 4201,\n        \"samples\": [\n          \"Alan Rappeport, Jennifer Steinhauer and Maggie Haberman\",\n          \"Jeremy W. Peters and Rachel Shorey\",\n          \"Melissa Eddy\"\n        ],\n        \"semantic_type\": \"\",\n        \"description\": \"\"\n      }\n    },\n    {\n      \"column\": \"text\",\n      \"properties\": {\n        \"dtype\": \"string\",\n        \"num_unique_values\": 20389,\n        \"samples\": [\n          \"President Donald J. Trump killed the Trans Pacific Partnership (TPP) once and for all on Monday, signing an executive order officially withdrawing from the trade deal negotiations. [It came as a part of series of three separate executive actions that President Trump took on Monday.  \\u00e2\\u0080\\u009cThe first is a withdrawal of the United States from the Trans Pacific Partnership,\\u00e2\\u0080\\u009d White House chief of staff Reince Priebus said, explaining the first executive action President Trump was taking in the list of three. The other two were one freezing hiring of all federal employees except in the military, and one that restores the Mexico City policy. As President Trump signed the executive action killing the TPP, he announced for the cameras in the oval office that it was a \\u00e2\\u0080\\u009cgreat thing for the American worker, what we just did. \\u00e2\\u0080\\u009d Trump campaigned heavily against TPP, so it\\u00e2\\u0080\\u0099s only fitting he\\u00e2\\u0080\\u0099d crush it once and for all on his first business day as President of the United States. It\\u00e2\\u0080\\u0099s his efforts campaigning against it \\u00e2\\u0080\\u0094  and the efforts of failed presidential candidate Sen. Bernie Sanders ( ) \\u00e2\\u0080\\u0094  that shook Washington\\u00e2\\u0080\\u0099s political establishment, and eventually forced failed Democratic presidential nominee Hillary Rodham Clinton to come out against the deal that was supposed to be a legacy achievement of now former President Barack Obama. Trump hammered TPP repeatedly throughout his campaign and even leading up to it in speeches and interviews, including many exclusive interviews with Breitbart News. For instance, back in May 2015 \\u00e2\\u0080\\u0094  when many Republicans were in favor of TPP and before he announced his campaign \\u00e2\\u0080\\u0094  Trump told Breitbart News exclusively in an interview that the TPP was a \\u00e2\\u0080\\u009cdisaster\\u00e2\\u0080\\u009d of a deal. \\u00e2\\u0080\\u009cI deal with foreign companies all the time. I do a lot of business with foreign companies and do well with foreign companies,\\u00e2\\u0080\\u009d Trump said in that May 2015 interview. \\u00e2\\u0080\\u009cThe trade deal is a disaster for many reasons. Number one, we don\\u00e2\\u0080\\u0099t have any good negotiators in our government. That\\u00e2\\u0080\\u0099s possibly the single greatest reason \\u00e2\\u0080\\u0094  we don\\u00e2\\u0080\\u0099t have our best and our brightest negotiating for us. That\\u00e2\\u0080\\u0099s a real problem. Number two, and very, very importantly, it doesn\\u00e2\\u0080\\u0099t take into consideration the currency manipulation because we get beaten in trade more by currency manipulation than any single other factor. So it\\u00e2\\u0080\\u0099s not even discussed in the trade deal. They\\u00e2\\u0080\\u0099re not addressing the number one cause of the unfairness which is the currency manipulation. China manipulates their currency so brilliantly and it\\u00e2\\u0080\\u0099s very, very hard to compete. The other thing they do and they do it despite agreements is they make it impossible to sell product in their countries even after they sign an agreement so we need much stronger penalties if they continue to do that. \\u00e2\\u0080\\u009d Later, as a candidate in November 2015, now President Trump then candidate Trump called the deal \\u00e2\\u0080\\u009cinsanity\\u00e2\\u0080\\u009d in another exclusive Breitbart News interview. \\u00e2\\u0080\\u009cThe deal is insanity,\\u00e2\\u0080\\u009d he said in November 2015. \\u00e2\\u0080\\u009cThat deal should not be supported and it should not be allowed to happen. \\u00e2\\u0080\\u009d \\u00e2\\u0080\\u009cThe deal is so bad because of the fact they don\\u00e2\\u0080\\u0099t cover currency manipulation,\\u00e2\\u0080\\u009d Trump added in that interview. \\u00e2\\u0080\\u009cIt\\u00e2\\u0080\\u0099s the   weapon used by foreign countries to hurt the United States and take away jobs. \\u00e2\\u0080\\u009d He repeatedly hammered it over and over again, and continued throughout the entire campaign. Just a couple weeks before the general election, Trump appeared on Breitbart News Daily and hammered TPP and the North American Free Trade Agreement (NAFTA) \\u00e2\\u0080\\u0094  which he plans to renegotiate now with planned meetings with Canada and Mexico. \\u00e2\\u0080\\u009cI have traveled around this country, and I have seen places that were vibrant 25 years ago,\\u00e2\\u0080\\u009d Trump said in that October 2016 interview. \\u00e2\\u0080\\u009cI\\u00e2\\u0080\\u0099ve seen NAFTA. What NAFTA has done to our country is incredible. Probably 40 percent of our manufacturing jobs have been shipped to other places, and it\\u00e2\\u0080\\u0099s only getting worse. And now they want to do TPP, which will be not as bad as NAFTA, but it\\u00e2\\u0080\\u0099ll be very bad. It\\u00e2\\u0080\\u0099ll be a continuation of the same. \\u00e2\\u0080\\u009d The move to nuke TPP once and for all, ripping it up, begins to fulfill one of Trump\\u00e2\\u0080\\u0099s biggest promises. Now that he\\u00e2\\u0080\\u0099s crushed the bad deal, it remains to be seen how he will negotiate positive deals for America. Back when Trump became presumptive GOP presidential nominee, he told Breitbart News in his 26th floor Trump Tower office in New York City he wants to negotiate good deals for American workers. \\u00e2\\u0080\\u009cOne of the big drastic policies is on trade,\\u00e2\\u0080\\u009d Trump said in the May 2016 interview. \\u00e2\\u0080\\u009cAnd what I want in trade is great deals. I\\u00e2\\u0080\\u0099m fine with free trade, but all of our trade deals are doing horribly. It\\u00e2\\u0080\\u0099s free trade for the other side, not for us. So I like free trade but all of our trade deals are doing terribly. What I want is great deals. You know what my trade policy is? I want to make great deals for the American people. It\\u00e2\\u0080\\u0099s a very simple policy. You can call it anything you want \\u00e2\\u0080\\u0094  you can call it free trade, you can come up with three different names \\u00e2\\u0080\\u0094  but it\\u00e2\\u0080\\u0099s a very simple policy: Make great deals for the American people.\",\n          \"By Brig Asif H. Raja on November 1, 2016 \\nAsif Haroon Raja \\nThe ISI had developed its long arm capability during the tenures of Gen Akhtar Abdur Rehman, Lt Gen Hamid Gul (VT editor) and Lt Gen Javed Nasir as DG ISI. It was owing to this capability of hitting the chosen target outside the frontiers of Pakistan that the ISI earned the reputation of a dreaded outfit and the best in Asia. The long arm began to shrivel when Benazir Bhutto was PM from 1988 to 1990 and Gen Waheed Kakar was COAS and Lt Gen Javed Ashraf Qazi had replaced Gen Javed Nasir. This change in posture was a result of pressure of the US and the West, pressing Pakistan to refrain from meddling in Indian Occupied Kashmir (IOK) and in India, or else it will be declared a terrorist state. Pressure was mounted at the behest of India which had become strategic partner of USA and Israel in 1991/1992 and darling of the West. \\nAfter the occupation of Afghanistan by 1, 50,000 Soviet forces in December 1979, Pakistan under Gen Ziaul Haq had decided to provide refuge to about 5 million Afghan refugees and to support the Afghan Mujahideen in their resistance. The US came forward with a package of $ 3.5 billion in June 1981 after making a measured assessment that Pakistan had the will and capability to fight the proxy war. The offer was accepted only when it was conveyed that the ISI will coordinate and conduct the entire war without the aid of CIA and that the US and others would restrict their support to provision of funds and weapons/equipment only. As a Frontline State, Pakistan suffered a great deal throughout the Afghan war at the hands of KGB-KHAD-RAW-AlZulfiqar nexus and Afghan armed forces, but achieved the miracle by defeating and pushing out Soviet forces in February 1989. After achieving its objective without employing a single soldier, the US abandoned Pakistan as well as the Mujahideen who had sacrificed 1.5 million people and had helped the US in becoming a sole super power. \\nOnce Pakistan fell from the grace of USA and it was put under sanctions on account of its covert nuclear program suspected to be geared towards making an Islamic bomb, it came under the shadow of black star. Pakistan\\u00e2\\u0080\\u0099s nuclear program became an eyesore for India, Israel and USA. It faced the whole brunt of fallout effects of ten-year Afghan war that had been fully supported by the US led free world. USSR that had shrunk to Russian Federation was highly bitter, while India was perpetually hostile. Iran was not so friendly owing to its reservations over the developments in Afghanistan. Explosive situation in Afghanistan due to civil war and power tussle among the seven Mujahideen groups impacted the security of Pakistan. \\nStart of armed insurgency in IOK in late 1989 and India pumping in over 700,000 troops into the Valley had its effects on Pakistan\\u00e2\\u0080\\u0099s security dynamics. In 1990/91, both sides had come close to war. Internally, the society had become militarized due to the Afghan war and sectarianism fomented by Iran and Saudi Arabia had created serious law and order situation in Punjab. PPP and PML-N acrimoniously tussled with each other for power because of which no govt could complete its mandatory 5 years tenure. \\nFragmentation of USSR and demise of communism on account of its military defeat in Afghanistan and increase of influence of Pakistan and India decreasing its influence in Afghanistan had vexed India. It feared that Pakistan may exploit the situation in IOK and liberate it with the help of over 60 Jihadi groups and take its revenge of the humiliation it had suffered in East Pakistan in 1971. It dreaded that Pakistan may replicate its model of supporting the Mukti Bahini. Sensing the gravity of the situation, India started propagating that Pakistan is behind the insurgency in IOK and that the ISI is funding, training and launching terrorists from Azad Jammu & Kashmir (AJK). It urged the UN and world powers to rein in Pakistan and restrain ISI from conducting cross LoC terrorism. \\nThe US, both Republicans and Democrats, had been constantly wooing India to join its camp since early 1950s, but India preferred the Soviet camp, although it professed to be non-aligned. It was elated when India feeling orphaned after the collapse of USSR fell like a ripe apple into the waiting arms of USA and both became bedfellows in 1991. Once its newfound love sought help from her paramour, the latter stood behind her and sternly cautioned Pakistan to lay its hands off IOK. Change in circumstances compelled Pakistan to restrict its support to the Kashmiris in distress to moral, political and diplomatic levels only. The Kashmir oriented Jihadi groups based in AJK and in Southern Punjab however continued to extend support to the Kashmiris seeking right of self-determination as provided for in the UN resolutions. Indian security forces equipped with draconian laws and license to kill without any fear of accountability or censure by the UN and world powers carried out inhuman torture, employed massive force, and used rape as a weapon to break the will of the freedom fighters. The UN and international community turned a deaf ear to the cries of Kashmiris. \\nDespite the fact that IOK had become the most militarized region of the world (one soldier for 17 civilians), and Kashmiris had suffered over 100,000 fatalities, 10,000 rapes, detention of thousands in secret dens and destruction of their property, the freedom fighters kept the torch of liberty aglow. The heroics of Kashmiris against heavy odds had a telling effect on the morale of Indian Army and paramilitary forces in IOK. Soldiers suffered from demoralization and homesickness; cases of suicides, desertions, killing of seniors and comrades by soldiers, and indiscipline jumped up at an alarming rate. Officers and men dreaded posting to Kashmir, while rate of compassionate cases wanting posting out from Kashmir shot up. A stage came when recruitment in Army dropped to rock bottom levels. The then Indian Army chief had to appear on the TV and run an ad campaign to appeal to the youth to join the Army on better pay scale and perks. Kashmir had become a perforated wound for India and economic cost was becoming unbearable. It was becoming difficult for India to hide its massive human rights violations and barbarities of Indian security forces. \\nHere I may add that the Indian Army had suffered humiliation at Dras-Kargil in 1999 at the hands of handful of Mujahideen and irregulars of Northern Light Infantry. It was eventually bailed out by the US led G-8 by exerting immense pressure on Pakistan to immediately vacate the captured territories. The Indian armed forces went through another embarrassment in 2002 when it had to sheepishly withdraw from its western border after a ten-month standoff during which it had constantly huffed and puffed but couldn\\u00e2\\u0080\\u0099t pick up courage to cross the border. Aggressive response of Pak armed forces had taken the steam out of their chauvinism. \\nUnfortunately, all that was gained on the Kashmir front and on the military front was wasted away after Gen Musharraf wilted under the US pressure in 2003 and decided to take steps to please USA and India. Reining in Kashmir focused Jihadi groups, allowing India to fence the LoC and signing peace treaty with India in January 2004 changed the perspective. It helped Indian military to suppress Kashmir freedom movement. Earlier on, Musharraf had submitted to all the 7 demands of Washington in September 2001. Free hand given to CIA and FBI had enabled the two to establish their network in FATA and gain control over airports and seaport in Pakistan. Intelligence acquisition in FATA was taken over by CIA and ISI pushed on the back seat. \\nIndo-Pak peace treaty in 2004 enabled RAW to ignite FATA, Khyber Pakhtunkhwa (KP), Baluchistan and Karachi. While RAW assisted by CIA, NDS, MI-6 and Mossad made full use of its long arm to bleed Pakistan with the help of proxies, Pak security forces and ISI remained handicapped. The so-called friends pushed Pakistan to fight terrorism but secretly backed the terrorists. The US kept twisting the arm of Pakistan that if ISI meddled into India or Afghanistan it will be declared a rogue outfit. Perforce, the ISI undertook protective measures only, but its defensive actions were more often breached because the so-called allies stabbed Pakistan in the back. As a consequence, RAW and its strategic partners carried out one-sided covert war while the ISI at best tried to ward off the attacks. In spite of defensive policy of the govt and ISI, and Pakistan suffering much more human casualties than any other country in the war on terror, ISI was blamed to be in collusion with Al-Qaeda, Taliban, Haqqani Network, Jaish-e-Muhammad (JeM) and Lashkar-e-Taiba (LeT). These were termed as strategic assets of military establishment to overcome conventional inferiority against arch enemy India. The lost intelligence space In FATA/KP was gradually recovered when Lt Gen Shuja Pasha took over as DG ISI and Gen Ashfaq Kayani as COAS in 2008. \\nAll the terror attacks that took place in India between 2001 and 2008 were pinned on JeM and LeT and their connection was made with ISI. Since Pakistan made no effort to disprove Indian contention even after it was revealed by Indian investigative agencies and Home Ministry officials that Hindu terror groups and Indian military intelligence officers were involved in the attacks, it became easier for India to further strengthen its narrative of portraying Pakistan as a terror abetting state and a nursery of terrorism. India\\u00e2\\u0080\\u0099s narrative was boosted up by its strategic allies. The US dubbed Pakistan as the most dangerous county in the world. Pakistan\\u00e2\\u0080\\u0099s overall defensive policy and apologetic stance emboldened its detractors to keep whipping and bleeding it without fear of tit for tat response from ISI. \\nOther than the salvos fired by the Indo-Afghan-US-Israel nexus on Pak Army and ISI, Pakistan political leadership of major political parties also view the two premier institutions with distrust. Both PPP and PML-N in line with their 2006 Charter of Democracy made efforts to enfeeble ISI and keep Army under their thumb. First attempt was made by Benazir Bhutto when she replaced Lt Gen Hamid Gul with retired Lt Gen Kallue in 1989 and next tasked Air Marshal Zulfiqar to cut ISI to size under the garb of reforms. PM Yusaf Raza Gilani tried to civilianize ISI in August 2008 by placing it under Ministry of Interior. Kerry Lugar Bill in 2009 and Memo scandal in 2011 were other attempts to curtail military\\u00e2\\u0080\\u0099s power. Nawaz Sharif has a history of locking horns with every Army chief and has still not got out of the hangover of Gen Musharraf. Although he didn\\u00e2\\u0080\\u0099t clash with Gen Raheel but at times civil-military relations became tense. \\nIt has now been conclusively established that RAW and NDS in unison and backed by other agencies are deeply involved in proxy war in Pakistan since 2003 and have inflicted tens of thousands of cuts on the body of Pakistan and its people. Series of conspiracies have been hatched and launched to destabilize and fragment Pakistan. RAW-NDS nexus backed by CIA is continuing to use Afghanistan as a launching pad for terror attacks in Pakistan. In order to scuttle CPEC, focus of attacks is on Baluchistan and KP. India is keeping the LoC on fire. So far it has violated 2003 ceasefire agreement 178 times and killed 19 civilians and injured 80. \\nThe anti-Pakistan foreign agencies are making full use of TTP, Jamaat Ahrar, Lashkar Jhangvi, BLA, BRA, BLF and MQM as proxies. London is a safe haven for MQM leadership and Baloch rebel leaders, while Afghanistan has provided sanctuaries to TTP runaway leaders in Kunar, Nuristan and Nangarhar. Besides these strategic assets, the detractors are also making use of NGOs, human rights activists and segment of media to make Pakistan a compliant state of India. Since HN, JeM, and LeT are not playing the game of foreign agencies, they are dubbed as terrorist groups and strategic assets of Pak Army/ISI. They want Pakistan to take strict action against them or else face isolation and sanctions. \\nIt was in the backdrop of this concern of US and India that the Dawn News published a story on October 6. The planted story was allegedly furnished by someone from within the PM House where a national security conference presided by the PM and attended by Foreign Secretary, Punjab Chief Minister, COAS, DG ISI and National Security Adviser was held. The invented story written by Cyril Almeida gave an impression of serious rift between civil and military leadership and that while the govt wanted to proceed against the defunct militant groups, the ISI didn\\u00e2\\u0080\\u0099t. Probable motive of concocted story was to demean the Army/ISI and to reinforce Indo-US stance that Pak Army and ISI were in league with terror groups. The types of Hussain Haqqani, Ayesha Sadiqa, Farzana Bari and several other liberal journalists assembled in London two days ago to play up this story. MQM (Altaf) hosted them. To ascertain the truth, a high powered committee comprising members from three intelligence agencies will carry out inquest. \\nHaving collected tons of evidence, yet Pakistan takes the barbs and whips without a whimper and doesn\\u00e2\\u0080\\u0099t pick up courage to strike back. The long arm of ISI remains sheathed for reasons best known to the policy makers. It implies our leaders have decided to give a free hand to our enemies to continue bleeding Pakistan without any fear of retaliation or even protest. Going by the well-established concept that \\u00e2\\u0080\\u0098offence is the best defence\\u00e2\\u0080\\u0099, until and unless the ISI pay back the RAW and NDS in the same coin, one sided bleeding of Pakistanis will continue. Long arm must be unsheathed. \\nThe writer is retired Brig, war veteran, defence analyst, columnist, author of 5 books, Vice Chairman Thinkers Forum Pakistan, DG Measac Research Centre, and Member Executive Council PESS. Related Posts:\",\n          \"Thursday during a panel discussion moderated by CNBC at the International Arctic Forum in Arkhangelsk, Russian President Vladimir Putin dismissed allegations his government interfered in last year\\u00e2\\u0080\\u0099s presidential election.  Putin said the charges were being used as a tool for \\u00e2\\u0080\\u009cdomestic American political agendas. \\u00e2\\u0080\\u009d \\u00e2\\u0080\\u009c[W]e said on numerous occasions and I reiterate that we are confident and positive and know for sure that opinion polls in the United States show that very many people are friendly towards the Russian Federation, and I\\u00e2\\u0080\\u0099d like to tell these people that we perceive and regard the United States as a great power with which we want to establish good partnership relations,\\u00e2\\u0080\\u009d Putin said. \\u00e2\\u0080\\u009cAll those things are fictional, illusory and provocations, lies. All these are used for domestic American political agendas. The   card is played by different political forces inside the United States to trade on that and consolidate their positions inside. \\u00e2\\u0080\\u009d Follow Jeff Poor on Twitter @jeff_poor\"\n        ],\n        \"semantic_type\": \"\",\n        \"description\": \"\"\n      }\n    },\n    {\n      \"column\": \"label\",\n      \"properties\": {\n        \"dtype\": \"number\",\n        \"std\": 0,\n        \"min\": 0,\n        \"max\": 1,\n        \"num_unique_values\": 2,\n        \"samples\": [\n          0,\n          1\n        ],\n        \"semantic_type\": \"\",\n        \"description\": \"\"\n      }\n    }\n  ]\n}"
            }
          },
          "metadata": {},
          "execution_count": 25
        }
      ]
    },
    {
      "cell_type": "code",
      "metadata": {
        "colab": {
          "base_uri": "https://localhost:8080/"
        },
        "id": "QYkDi4SwxlKi",
        "outputId": "de3dbfb6-7759-4413-e167-d3be405963b5"
      },
      "source": [
        "# counting the number of missing values in the dataset\n",
        "news_dataset.isnull().sum()"
      ],
      "execution_count": null,
      "outputs": [
        {
          "output_type": "execute_result",
          "data": {
            "text/plain": [
              "id           0\n",
              "title      574\n",
              "author    2007\n",
              "text        41\n",
              "label        0\n",
              "dtype: int64"
            ]
          },
          "metadata": {},
          "execution_count": 26
        }
      ]
    },
    {
      "cell_type": "code",
      "metadata": {
        "id": "Mc04lQrhx57m"
      },
      "source": [
        "# replacing the null values with empty string\n",
        "news_dataset = news_dataset.fillna('')"
      ],
      "execution_count": null,
      "outputs": []
    },
    {
      "cell_type": "code",
      "metadata": {
        "id": "H7TZgHszygxj"
      },
      "source": [
        "# merging the author name and news title\n",
        "news_dataset['content'] = news_dataset['author']+' '+news_dataset['title']"
      ],
      "execution_count": null,
      "outputs": []
    },
    {
      "cell_type": "code",
      "metadata": {
        "colab": {
          "base_uri": "https://localhost:8080/"
        },
        "id": "cbF6GBBpzBey",
        "outputId": "5c116ad0-b4ce-4664-a4c7-8f20ae0e57d0"
      },
      "source": [
        "print(news_dataset['content'])"
      ],
      "execution_count": null,
      "outputs": [
        {
          "output_type": "stream",
          "name": "stdout",
          "text": [
            "0        Darrell Lucus House Dem Aide: We Didnât Even...\n",
            "1        Daniel J. Flynn FLYNN: Hillary Clinton, Big Wo...\n",
            "2        Consortiumnews.com Why the Truth Might Get You...\n",
            "3        Jessica Purkiss 15 Civilians Killed In Single ...\n",
            "4        Howard Portnoy Iranian woman jailed for fictio...\n",
            "                               ...                        \n",
            "21470    Jerome Hudson Rapper T.I.: Trump a âPoster C...\n",
            "21471    Benjamin Hoffman N.F.L. Playoffs: Schedule, Ma...\n",
            "21472    Michael J. de la Merced and Rachel Abrams Macy...\n",
            "21473    Alex Ansary NATO, Russia To Hold Parallel Exer...\n",
            "21474              David Swanson What Keeps the F-35 Alive\n",
            "Name: content, Length: 21475, dtype: object\n"
          ]
        }
      ]
    },
    {
      "cell_type": "code",
      "metadata": {
        "id": "LfBtAvLtzEo6"
      },
      "source": [
        "# separating the data & label\n",
        "X = news_dataset.drop(columns='label', axis=1)\n",
        "Y = news_dataset['label']"
      ],
      "execution_count": null,
      "outputs": []
    },
    {
      "cell_type": "code",
      "metadata": {
        "colab": {
          "base_uri": "https://localhost:8080/"
        },
        "id": "oHPBr540zl1h",
        "outputId": "3e2f26aa-96f6-4bab-90b6-b6c2a5c57498"
      },
      "source": [
        "print(X)\n",
        "print(Y)"
      ],
      "execution_count": null,
      "outputs": [
        {
          "output_type": "stream",
          "name": "stdout",
          "text": [
            "          id                                              title  \\\n",
            "0          0  House Dem Aide: We Didnât Even See Comeyâs...   \n",
            "1          1  FLYNN: Hillary Clinton, Big Woman on Campus - ...   \n",
            "2          2                  Why the Truth Might Get You Fired   \n",
            "3          3  15 Civilians Killed In Single US Airstrike Hav...   \n",
            "4          4  Iranian woman jailed for fictional unpublished...   \n",
            "...      ...                                                ...   \n",
            "21470  20795  Rapper T.I.: Trump a âPoster Child For White...   \n",
            "21471  20796  N.F.L. Playoffs: Schedule, Matchups and Odds -...   \n",
            "21472  20797  Macyâs Is Said to Receive Takeover Approach ...   \n",
            "21473  20798  NATO, Russia To Hold Parallel Exercises In Bal...   \n",
            "21474  20799                          What Keeps the F-35 Alive   \n",
            "\n",
            "                                          author  \\\n",
            "0                                  Darrell Lucus   \n",
            "1                                Daniel J. Flynn   \n",
            "2                             Consortiumnews.com   \n",
            "3                                Jessica Purkiss   \n",
            "4                                 Howard Portnoy   \n",
            "...                                          ...   \n",
            "21470                              Jerome Hudson   \n",
            "21471                           Benjamin Hoffman   \n",
            "21472  Michael J. de la Merced and Rachel Abrams   \n",
            "21473                                Alex Ansary   \n",
            "21474                              David Swanson   \n",
            "\n",
            "                                                    text  \\\n",
            "0      House Dem Aide: We Didnât Even See Comeyâs...   \n",
            "1      Ever get the feeling your life circles the rou...   \n",
            "2      Why the Truth Might Get You Fired October 29, ...   \n",
            "3      Videos 15 Civilians Killed In Single US Airstr...   \n",
            "4      Print \\nAn Iranian woman has been sentenced to...   \n",
            "...                                                  ...   \n",
            "21470  Rapper T. I. unloaded on black celebrities who...   \n",
            "21471  When the Green Bay Packers lost to the Washing...   \n",
            "21472  The Macyâs of today grew from the union of s...   \n",
            "21473  NATO, Russia To Hold Parallel Exercises In Bal...   \n",
            "21474    David Swanson is an author, activist, journa...   \n",
            "\n",
            "                                                 content  \n",
            "0      Darrell Lucus House Dem Aide: We Didnât Even...  \n",
            "1      Daniel J. Flynn FLYNN: Hillary Clinton, Big Wo...  \n",
            "2      Consortiumnews.com Why the Truth Might Get You...  \n",
            "3      Jessica Purkiss 15 Civilians Killed In Single ...  \n",
            "4      Howard Portnoy Iranian woman jailed for fictio...  \n",
            "...                                                  ...  \n",
            "21470  Jerome Hudson Rapper T.I.: Trump a âPoster C...  \n",
            "21471  Benjamin Hoffman N.F.L. Playoffs: Schedule, Ma...  \n",
            "21472  Michael J. de la Merced and Rachel Abrams Macy...  \n",
            "21473  Alex Ansary NATO, Russia To Hold Parallel Exer...  \n",
            "21474            David Swanson What Keeps the F-35 Alive  \n",
            "\n",
            "[21475 rows x 5 columns]\n",
            "0        1\n",
            "1        0\n",
            "2        1\n",
            "3        1\n",
            "4        1\n",
            "        ..\n",
            "21470    0\n",
            "21471    0\n",
            "21472    0\n",
            "21473    1\n",
            "21474    1\n",
            "Name: label, Length: 21475, dtype: int64\n"
          ]
        }
      ]
    },
    {
      "cell_type": "markdown",
      "metadata": {
        "id": "0NwFcpqcz37a"
      },
      "source": [
        "Stemming:\n",
        "\n",
        "Stemming is the process of reducing a word to its Root word\n",
        "\n",
        "example:\n",
        "actor, actress, acting --> act"
      ]
    },
    {
      "cell_type": "code",
      "metadata": {
        "id": "Ga_DaZxhzoWM"
      },
      "source": [
        "port_stem = PorterStemmer()"
      ],
      "execution_count": null,
      "outputs": []
    },
    {
      "cell_type": "code",
      "metadata": {
        "id": "zY-n0dCh0e-y"
      },
      "source": [
        "def stemming(content):\n",
        "    stemmed_content = re.sub('[^a-zA-Z]',' ',content)\n",
        "    stemmed_content = stemmed_content.lower()\n",
        "    stemmed_content = stemmed_content.split()\n",
        "    stemmed_content = [port_stem.stem(word) for word in stemmed_content if not word in stopwords.words('english')]\n",
        "    stemmed_content = ' '.join(stemmed_content)\n",
        "    return stemmed_content"
      ],
      "execution_count": null,
      "outputs": []
    },
    {
      "cell_type": "code",
      "metadata": {
        "id": "MBUIk4c94yTL"
      },
      "source": [
        "news_dataset['content'] = news_dataset['content'].apply(stemming)"
      ],
      "execution_count": null,
      "outputs": []
    },
    {
      "cell_type": "code",
      "metadata": {
        "colab": {
          "base_uri": "https://localhost:8080/"
        },
        "id": "xmwK-zyO5Stg",
        "outputId": "a509292e-1cf9-4903-e26d-9b75163d4dee"
      },
      "source": [
        "print(news_dataset['content'])"
      ],
      "execution_count": null,
      "outputs": [
        {
          "output_type": "stream",
          "name": "stdout",
          "text": [
            "0        darrel lucu hous dem aid even see comey letter...\n",
            "1        daniel j flynn flynn hillari clinton big woman...\n",
            "2                   consortiumnew com truth might get fire\n",
            "3        jessica purkiss civilian kill singl us airstri...\n",
            "4        howard portnoy iranian woman jail fiction unpu...\n",
            "                               ...                        \n",
            "21470    jerom hudson rapper trump poster child white s...\n",
            "21471    benjamin hoffman n f l playoff schedul matchup...\n",
            "21472    michael j de la merc rachel abram maci said re...\n",
            "21473    alex ansari nato russia hold parallel exercis ...\n",
            "21474                            david swanson keep f aliv\n",
            "Name: content, Length: 21475, dtype: object\n"
          ]
        }
      ]
    },
    {
      "cell_type": "code",
      "metadata": {
        "id": "5ZIidnta5k5h"
      },
      "source": [
        "#separating the data and label\n",
        "X = news_dataset['content'].values\n",
        "Y = news_dataset['label'].values"
      ],
      "execution_count": null,
      "outputs": []
    },
    {
      "cell_type": "code",
      "metadata": {
        "colab": {
          "base_uri": "https://localhost:8080/"
        },
        "id": "3nA_SBZX6BeH",
        "outputId": "1a85509a-4d38-4489-c0cd-c2889c03095f"
      },
      "source": [
        "print(X)"
      ],
      "execution_count": null,
      "outputs": [
        {
          "output_type": "stream",
          "name": "stdout",
          "text": [
            "['darrel lucu hous dem aid even see comey letter jason chaffetz tweet'\n",
            " 'daniel j flynn flynn hillari clinton big woman campu breitbart'\n",
            " 'consortiumnew com truth might get fire' ...\n",
            " 'michael j de la merc rachel abram maci said receiv takeov approach hudson bay new york time'\n",
            " 'alex ansari nato russia hold parallel exercis balkan'\n",
            " 'david swanson keep f aliv']\n"
          ]
        }
      ]
    },
    {
      "cell_type": "code",
      "metadata": {
        "colab": {
          "base_uri": "https://localhost:8080/"
        },
        "id": "NgkFGXkg6HS4",
        "outputId": "f42981e2-7950-494f-9d1e-abfa9b0e74dc"
      },
      "source": [
        "print(Y)"
      ],
      "execution_count": null,
      "outputs": [
        {
          "output_type": "stream",
          "name": "stdout",
          "text": [
            "[1 0 1 ... 0 1 1]\n"
          ]
        }
      ]
    },
    {
      "cell_type": "code",
      "metadata": {
        "colab": {
          "base_uri": "https://localhost:8080/"
        },
        "id": "Iu2ZEBkL6QTm",
        "outputId": "21b1a8c2-0164-4ca7-9e5e-a922ec18a565"
      },
      "source": [
        "Y.shape"
      ],
      "execution_count": null,
      "outputs": [
        {
          "output_type": "execute_result",
          "data": {
            "text/plain": [
              "(21475,)"
            ]
          },
          "metadata": {},
          "execution_count": 39
        }
      ]
    },
    {
      "cell_type": "code",
      "metadata": {
        "id": "BMfepsQZ6TES"
      },
      "source": [
        "# converting the textual data to numerical data\n",
        "vectorizer = TfidfVectorizer()\n",
        "vectorizer.fit(X)\n",
        "\n",
        "X = vectorizer.transform(X)"
      ],
      "execution_count": null,
      "outputs": []
    },
    {
      "cell_type": "code",
      "metadata": {
        "colab": {
          "base_uri": "https://localhost:8080/"
        },
        "id": "MJj5esbs7Nzy",
        "outputId": "e01b849c-dc0b-4ee5-efaa-00c7eba11761"
      },
      "source": [
        "print(X)"
      ],
      "execution_count": null,
      "outputs": [
        {
          "output_type": "stream",
          "name": "stdout",
          "text": [
            "  (0, 15686)\t0.28442927816909924\n",
            "  (0, 13473)\t0.2573322338598051\n",
            "  (0, 8909)\t0.3649621906607723\n",
            "  (0, 8630)\t0.2927744125888507\n",
            "  (0, 7692)\t0.24722469439294448\n",
            "  (0, 7005)\t0.218963190048734\n",
            "  (0, 4973)\t0.2332558260745861\n",
            "  (0, 3792)\t0.27019497289373323\n",
            "  (0, 3600)\t0.36125965854795367\n",
            "  (0, 2959)\t0.24698223062686733\n",
            "  (0, 2483)\t0.3649621906607723\n",
            "  (0, 267)\t0.26977982544654605\n",
            "  (1, 16799)\t0.30156152759247007\n",
            "  (1, 6816)\t0.19069657062382914\n",
            "  (1, 5503)\t0.713918172562053\n",
            "  (1, 3568)\t0.2644220562201136\n",
            "  (1, 2813)\t0.19123990531562632\n",
            "  (1, 2223)\t0.38115127798668735\n",
            "  (1, 1894)\t0.15512592243222137\n",
            "  (1, 1497)\t0.2952697617297277\n",
            "  (2, 15611)\t0.41613271324891027\n",
            "  (2, 9620)\t0.49238535134771233\n",
            "  (2, 5968)\t0.34775153145434423\n",
            "  (2, 5389)\t0.3853897918748556\n",
            "  (2, 3103)\t0.4622600500983714\n",
            "  :\t:\n",
            "  (21472, 13122)\t0.2476923776344016\n",
            "  (21472, 12344)\t0.2734282995753492\n",
            "  (21472, 12138)\t0.24723989459758233\n",
            "  (21472, 10306)\t0.08030404098312563\n",
            "  (21472, 9588)\t0.17391300511217056\n",
            "  (21472, 9518)\t0.2930293054554176\n",
            "  (21472, 8988)\t0.3622676820562139\n",
            "  (21472, 8364)\t0.22289487384474815\n",
            "  (21472, 7042)\t0.21761440463120652\n",
            "  (21472, 3643)\t0.21103521987901064\n",
            "  (21472, 1287)\t0.3360792770784469\n",
            "  (21472, 699)\t0.30760035979351\n",
            "  (21472, 43)\t0.29785909081221557\n",
            "  (21473, 13046)\t0.22325342711467366\n",
            "  (21473, 11052)\t0.4464596139849262\n",
            "  (21473, 10177)\t0.31930772339821123\n",
            "  (21473, 6889)\t0.32418355254571424\n",
            "  (21473, 5032)\t0.4088723375119457\n",
            "  (21473, 1125)\t0.4464596139849262\n",
            "  (21473, 588)\t0.3108373204714337\n",
            "  (21473, 350)\t0.28400124524227527\n",
            "  (21474, 14852)\t0.5704347256405672\n",
            "  (21474, 8036)\t0.46039010970944366\n",
            "  (21474, 3623)\t0.3793366939103766\n",
            "  (21474, 377)\t0.5645784651562992\n"
          ]
        }
      ]
    },
    {
      "cell_type": "markdown",
      "metadata": {
        "id": "mKBRGiSQ7YCZ"
      },
      "source": [
        "Splitting the dataset to training & test data"
      ]
    },
    {
      "cell_type": "code",
      "metadata": {
        "id": "VjMYwmBo7Pbx"
      },
      "source": [
        "X_train, X_test, Y_train, Y_test = train_test_split(X, Y, test_size = 0.2, stratify=Y, random_state=2)"
      ],
      "execution_count": null,
      "outputs": []
    },
    {
      "cell_type": "markdown",
      "metadata": {
        "id": "rxDsQvgO8Oln"
      },
      "source": [
        "Training the Model: Logistic Regression"
      ]
    },
    {
      "cell_type": "code",
      "metadata": {
        "id": "HrSItcqc7qAy"
      },
      "source": [
        "model = LogisticRegression()"
      ],
      "execution_count": null,
      "outputs": []
    },
    {
      "cell_type": "code",
      "metadata": {
        "colab": {
          "base_uri": "https://localhost:8080/",
          "height": 75
        },
        "id": "fdVJ839l8Vgx",
        "outputId": "42abd554-2e58-4fca-bf7d-650cbc6bf24f"
      },
      "source": [
        "model.fit(X_train, Y_train)"
      ],
      "execution_count": null,
      "outputs": [
        {
          "output_type": "execute_result",
          "data": {
            "text/plain": [
              "LogisticRegression()"
            ],
            "text/html": [
              "<style>#sk-container-id-1 {color: black;background-color: white;}#sk-container-id-1 pre{padding: 0;}#sk-container-id-1 div.sk-toggleable {background-color: white;}#sk-container-id-1 label.sk-toggleable__label {cursor: pointer;display: block;width: 100%;margin-bottom: 0;padding: 0.3em;box-sizing: border-box;text-align: center;}#sk-container-id-1 label.sk-toggleable__label-arrow:before {content: \"▸\";float: left;margin-right: 0.25em;color: #696969;}#sk-container-id-1 label.sk-toggleable__label-arrow:hover:before {color: black;}#sk-container-id-1 div.sk-estimator:hover label.sk-toggleable__label-arrow:before {color: black;}#sk-container-id-1 div.sk-toggleable__content {max-height: 0;max-width: 0;overflow: hidden;text-align: left;background-color: #f0f8ff;}#sk-container-id-1 div.sk-toggleable__content pre {margin: 0.2em;color: black;border-radius: 0.25em;background-color: #f0f8ff;}#sk-container-id-1 input.sk-toggleable__control:checked~div.sk-toggleable__content {max-height: 200px;max-width: 100%;overflow: auto;}#sk-container-id-1 input.sk-toggleable__control:checked~label.sk-toggleable__label-arrow:before {content: \"▾\";}#sk-container-id-1 div.sk-estimator input.sk-toggleable__control:checked~label.sk-toggleable__label {background-color: #d4ebff;}#sk-container-id-1 div.sk-label input.sk-toggleable__control:checked~label.sk-toggleable__label {background-color: #d4ebff;}#sk-container-id-1 input.sk-hidden--visually {border: 0;clip: rect(1px 1px 1px 1px);clip: rect(1px, 1px, 1px, 1px);height: 1px;margin: -1px;overflow: hidden;padding: 0;position: absolute;width: 1px;}#sk-container-id-1 div.sk-estimator {font-family: monospace;background-color: #f0f8ff;border: 1px dotted black;border-radius: 0.25em;box-sizing: border-box;margin-bottom: 0.5em;}#sk-container-id-1 div.sk-estimator:hover {background-color: #d4ebff;}#sk-container-id-1 div.sk-parallel-item::after {content: \"\";width: 100%;border-bottom: 1px solid gray;flex-grow: 1;}#sk-container-id-1 div.sk-label:hover label.sk-toggleable__label {background-color: #d4ebff;}#sk-container-id-1 div.sk-serial::before {content: \"\";position: absolute;border-left: 1px solid gray;box-sizing: border-box;top: 0;bottom: 0;left: 50%;z-index: 0;}#sk-container-id-1 div.sk-serial {display: flex;flex-direction: column;align-items: center;background-color: white;padding-right: 0.2em;padding-left: 0.2em;position: relative;}#sk-container-id-1 div.sk-item {position: relative;z-index: 1;}#sk-container-id-1 div.sk-parallel {display: flex;align-items: stretch;justify-content: center;background-color: white;position: relative;}#sk-container-id-1 div.sk-item::before, #sk-container-id-1 div.sk-parallel-item::before {content: \"\";position: absolute;border-left: 1px solid gray;box-sizing: border-box;top: 0;bottom: 0;left: 50%;z-index: -1;}#sk-container-id-1 div.sk-parallel-item {display: flex;flex-direction: column;z-index: 1;position: relative;background-color: white;}#sk-container-id-1 div.sk-parallel-item:first-child::after {align-self: flex-end;width: 50%;}#sk-container-id-1 div.sk-parallel-item:last-child::after {align-self: flex-start;width: 50%;}#sk-container-id-1 div.sk-parallel-item:only-child::after {width: 0;}#sk-container-id-1 div.sk-dashed-wrapped {border: 1px dashed gray;margin: 0 0.4em 0.5em 0.4em;box-sizing: border-box;padding-bottom: 0.4em;background-color: white;}#sk-container-id-1 div.sk-label label {font-family: monospace;font-weight: bold;display: inline-block;line-height: 1.2em;}#sk-container-id-1 div.sk-label-container {text-align: center;}#sk-container-id-1 div.sk-container {/* jupyter's `normalize.less` sets `[hidden] { display: none; }` but bootstrap.min.css set `[hidden] { display: none !important; }` so we also need the `!important` here to be able to override the default hidden behavior on the sphinx rendered scikit-learn.org. See: https://github.com/scikit-learn/scikit-learn/issues/21755 */display: inline-block !important;position: relative;}#sk-container-id-1 div.sk-text-repr-fallback {display: none;}</style><div id=\"sk-container-id-1\" class=\"sk-top-container\"><div class=\"sk-text-repr-fallback\"><pre>LogisticRegression()</pre><b>In a Jupyter environment, please rerun this cell to show the HTML representation or trust the notebook. <br />On GitHub, the HTML representation is unable to render, please try loading this page with nbviewer.org.</b></div><div class=\"sk-container\" hidden><div class=\"sk-item\"><div class=\"sk-estimator sk-toggleable\"><input class=\"sk-toggleable__control sk-hidden--visually\" id=\"sk-estimator-id-1\" type=\"checkbox\" checked><label for=\"sk-estimator-id-1\" class=\"sk-toggleable__label sk-toggleable__label-arrow\">LogisticRegression</label><div class=\"sk-toggleable__content\"><pre>LogisticRegression()</pre></div></div></div></div></div>"
            ]
          },
          "metadata": {},
          "execution_count": 44
        }
      ]
    },
    {
      "cell_type": "markdown",
      "metadata": {
        "id": "sbPKIFT89W1C"
      },
      "source": [
        "Evaluation"
      ]
    },
    {
      "cell_type": "markdown",
      "metadata": {
        "id": "YG6gqVty9ZDB"
      },
      "source": [
        "accuracy score"
      ]
    },
    {
      "cell_type": "code",
      "metadata": {
        "id": "VgwtWZY59PBw"
      },
      "source": [
        "# accuracy score on the training data\n",
        "X_train_prediction = model.predict(X_train)\n",
        "training_data_accuracy = accuracy_score(X_train_prediction, Y_train)"
      ],
      "execution_count": null,
      "outputs": []
    },
    {
      "cell_type": "code",
      "metadata": {
        "colab": {
          "base_uri": "https://localhost:8080/"
        },
        "id": "4L-r5mld-BFn",
        "outputId": "50c591ac-7fa3-4478-eb5f-63a8a5e49546"
      },
      "source": [
        "print('Accuracy score of the training data : ', training_data_accuracy)"
      ],
      "execution_count": null,
      "outputs": [
        {
          "output_type": "stream",
          "name": "stdout",
          "text": [
            "Accuracy score of the training data :  0.9871944121071012\n"
          ]
        }
      ]
    },
    {
      "cell_type": "code",
      "metadata": {
        "id": "Kgcn13oO-H6e"
      },
      "source": [
        "# accuracy score on the test data\n",
        "X_test_prediction = model.predict(X_test)\n",
        "test_data_accuracy = accuracy_score(X_test_prediction, Y_test)"
      ],
      "execution_count": null,
      "outputs": []
    },
    {
      "cell_type": "code",
      "metadata": {
        "colab": {
          "base_uri": "https://localhost:8080/"
        },
        "id": "9TG0Yof1-vg2",
        "outputId": "536147e7-c844-49a6-a03d-0de3b3a3e750"
      },
      "source": [
        "print('Accuracy score of the test data : ', test_data_accuracy)"
      ],
      "execution_count": null,
      "outputs": [
        {
          "output_type": "stream",
          "name": "stdout",
          "text": [
            "Accuracy score of the test data :  0.9778812572759022\n"
          ]
        }
      ]
    },
    {
      "cell_type": "markdown",
      "metadata": {
        "id": "Yun4seaE-6tV"
      },
      "source": [
        "Making a Predictive System"
      ]
    },
    {
      "cell_type": "code",
      "metadata": {
        "colab": {
          "base_uri": "https://localhost:8080/"
        },
        "id": "lPjssDL_-zo8",
        "outputId": "12236863-fdc0-4ab3-e1d7-8751ff04fe17"
      },
      "source": [
        "X_new = X_test[6]\n",
        "\n",
        "prediction = model.predict(X_new)\n",
        "print(prediction)\n",
        "\n",
        "if (prediction[0]==0):\n",
        "  print('The news is Real')\n",
        "else:\n",
        "  print('The news is Fake')"
      ],
      "execution_count": null,
      "outputs": [
        {
          "output_type": "stream",
          "name": "stdout",
          "text": [
            "[0]\n",
            "The news is Real\n"
          ]
        }
      ]
    },
    {
      "cell_type": "code",
      "metadata": {
        "colab": {
          "base_uri": "https://localhost:8080/"
        },
        "id": "8KaWdvDI_eUk",
        "outputId": "81d50239-5e99-4fdb-f263-dfbf06dbad6a"
      },
      "source": [
        "print(Y_test[6])"
      ],
      "execution_count": null,
      "outputs": [
        {
          "output_type": "stream",
          "name": "stdout",
          "text": [
            "0\n"
          ]
        }
      ]
    }
  ]
}
